{
 "cells": [
  {
   "cell_type": "code",
   "execution_count": 1,
   "metadata": {},
   "outputs": [],
   "source": [
    "import warnings\n",
    "import itertools\n",
    "import numpy as np\n",
    "import matplotlib.pyplot as plt\n",
    "warnings.filterwarnings(\"ignore\")\n",
    "plt.style.use('fivethirtyeight')\n",
    "import pandas as pd\n",
    "import statsmodels.api as sm\n",
    "import matplotlib\n",
    "matplotlib.rcParams['axes.labelsize'] = 14\n",
    "matplotlib.rcParams['xtick.labelsize'] = 12\n",
    "matplotlib.rcParams['ytick.labelsize'] = 12\n",
    "matplotlib.rcParams['text.color'] = 'k'"
   ]
  },
  {
   "cell_type": "markdown",
   "metadata": {},
   "source": [
    "# Loading Data"
   ]
  },
  {
   "cell_type": "code",
   "execution_count": 2,
   "metadata": {},
   "outputs": [],
   "source": [
    "df_train = pd.read_csv('data/train.csv')\n",
    "df_test = pd.read_csv('data/test.csv')"
   ]
  },
  {
   "cell_type": "markdown",
   "metadata": {},
   "source": [
    "# Evaluation Functions"
   ]
  },
  {
   "cell_type": "code",
   "execution_count": 3,
   "metadata": {},
   "outputs": [],
   "source": [
    "def smape(y, y_pred):\n",
    "    \n",
    "    div = (abs(y_pred) + abs(y)) / 2\n",
    "    errors = abs(y_pred - y) / div\n",
    "        \n",
    "    smape = np.sum(errors) / len(y)\n",
    "    return smape\n",
    "\n",
    "def compute_avg_smape (df_y, df_y_pred):\n",
    "    \n",
    "    avg_smape = 0\n",
    "    for i in range(df_y_pred.shape[1]):\n",
    "        err = smape(y=df_y.iloc[:,i],\n",
    "                              y_pred=df_y_pred.iloc[:,i])\n",
    "        avg_smape += err\n",
    "\n",
    "    avg_smape /= df_y_pred.shape[1]\n",
    "    return avg_smape"
   ]
  },
  {
   "cell_type": "markdown",
   "metadata": {},
   "source": [
    "# Helper Functions"
   ]
  },
  {
   "cell_type": "markdown",
   "metadata": {},
   "source": [
    "1. Categorisation by week of year\n",
    "2. Categorisation by day of week\n",
    "3. Calculate the average sales for every day of week\n",
    "4. Calculate the average sales for every week of year\n",
    "5. Adding or subtracting sesonality from the data - need a function or parameter for this action\n",
    "6. Making changes to the data by adding/removing the seasonality"
   ]
  },
  {
   "cell_type": "code",
   "execution_count": 4,
   "metadata": {},
   "outputs": [],
   "source": [
    "categorize_by_week_of_year = lambda df_train: df_train.index.dayofyear // 7\n",
    "categorize_by_day_of_week = lambda df_train: df_train.index.dayofweek"
   ]
  },
  {
   "cell_type": "code",
   "execution_count": 7,
   "metadata": {},
   "outputs": [],
   "source": [
    "def compute_seasonality(df, categorization):\n",
    "    df = pd.DataFrame()\n",
    "    df[\"values\"] = series\n",
    "    df.index = series.index\n",
    "    df[\"cat\"] = categorization(df)\n",
    "    return df.groupby(by=\"cat\")[\"values\"].mean()"
   ]
  },
  {
   "cell_type": "code",
   "execution_count": null,
   "metadata": {},
   "outputs": [],
   "source": [
    "def train_and_forecast(data, categorization, trainer, forecaster, deseasonize, steps_to_forecast=90):\n",
    "    \"\"\"\n",
    "    Split input data, deseasonalizes train data,\n",
    "    train using trainer (data -> model),\n",
    "    forecast using forecaster\n",
    "    \n",
    "    predicts values and applies seasonalization and returns predicted vs actual values\n",
    "    \n",
    "    :param data: dataset with the training data\n",
    "    :param categorization: Function used to split values into various periods of the season.\n",
    "    :type categorization: pd.DataFrame -> some categorical type, eg. int\n",
    "    :param trainer: Function used to train the model\n",
    "    :type trainer: pd.DataFrame -> model\n",
    "    :param forecaster: (model, steps) -> prediction\n",
    "    :param steps_to_forecast:  number of steps to forecast\n",
    "    :returns:  a dataframe with:\n",
    "                                date\n",
    "                                sales - true values\n",
    "                                forecast - forecasted values\n",
    "    \"\"\"\n",
    "    \n",
    "    #prepare trainig and validation datasets\n",
    "    df_train = data.iloc[:-365].copy()\n",
    "    df_validation = data.iloc[-365:].copy()\n",
    "    df_validation.index = pd.DatetimeIndex(df_validation[\"date\"])\n",
    "    df_train.index = pd.DatetimeIndex(df_train[\"date\"])\n",
    "    \n",
    "    if deseasonize:\n",
    "        seas = compute_seasonality(df_train[\"sales\"], categorization)\n",
    "        series = remove_seasonal_component(df_train[\"sales\"], categorization, seas)\n",
    "        df_train[\"sales\"] = series\n",
    "    \n",
    "    df_train = df_train.reset_index(drop=True)\n",
    "\n",
    "    # train\n",
    "    model = trainer(df_train)\n",
    "    \n",
    "    # forecast\n",
    "    forecast = forecaster(model, steps_to_forecast)\n",
    "    \n",
    "    # Create the pandas series from the forecast\n",
    "    forecast = pd.Series(forecast)\n",
    "    forecast.name = \"sales\"\n",
    "    forecast.index = pd.DatetimeIndex(start='2017-01-01', \n",
    "                                      freq=\"D\",\n",
    "                                      periods = forecast.size)\n",
    "    \n",
    "    if deseasonize:\n",
    "        forecast = add_seasonal_component(forecast, categorization, seas)\n",
    "    \n",
    "    final_forecast = pd.DataFrame()\n",
    "    final_forecast['real_values'] = df_validation[\"sales\"][:steps_to_forecast]\n",
    "    final_forecast['forecast'] = forecast\n",
    "    \n",
    "    return final_forecast"
   ]
  }
 ],
 "metadata": {
  "kernelspec": {
   "display_name": "Python 3",
   "language": "python",
   "name": "python3"
  },
  "language_info": {
   "codemirror_mode": {
    "name": "ipython",
    "version": 3
   },
   "file_extension": ".py",
   "mimetype": "text/x-python",
   "name": "python",
   "nbconvert_exporter": "python",
   "pygments_lexer": "ipython3",
   "version": "3.6.2"
  }
 },
 "nbformat": 4,
 "nbformat_minor": 2
}
